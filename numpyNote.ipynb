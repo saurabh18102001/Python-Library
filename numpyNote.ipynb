{
  "nbformat": 4,
  "nbformat_minor": 0,
  "metadata": {
    "colab": {
      "provenance": [],
      "authorship_tag": "ABX9TyO43R2832+jJcIkwmuZtgkZ",
      "include_colab_link": true
    },
    "kernelspec": {
      "name": "python3",
      "display_name": "Python 3"
    },
    "language_info": {
      "name": "python"
    }
  },
  "cells": [
    {
      "cell_type": "markdown",
      "metadata": {
        "id": "view-in-github",
        "colab_type": "text"
      },
      "source": [
        "<a href=\"https://colab.research.google.com/github/saurabh18102001/Python-Library/blob/main/numpyNote.ipynb\" target=\"_parent\"><img src=\"https://colab.research.google.com/assets/colab-badge.svg\" alt=\"Open In Colab\"/></a>"
      ]
    },
    {
      "cell_type": "markdown",
      "source": [
        "# **Numpy Notes**\n",
        "\n",
        "---\n",
        "\n",
        "\n",
        "\n",
        "\n",
        "\n"
      ],
      "metadata": {
        "id": "i8xdBToZnRE7"
      }
    },
    {
      "cell_type": "code",
      "execution_count": 2,
      "metadata": {
        "id": "0CQT_7DdkvBB"
      },
      "outputs": [],
      "source": [
        "import numpy as np\n",
        "\n"
      ]
    },
    {
      "cell_type": "markdown",
      "source": [
        "# **Creating Numpy**\n",
        "\n",
        "---\n",
        "\n"
      ],
      "metadata": {
        "id": "uii9KUiztRdk"
      }
    },
    {
      "cell_type": "code",
      "source": [
        "x = np.array([1,2,3,4])\n",
        "print(x)        #[1 2 3 4]\n",
        "print(type(x))  #<class 'numpy.ndarray'>\n",
        "print(x.ndim)   #1"
      ],
      "metadata": {
        "colab": {
          "base_uri": "https://localhost:8080/"
        },
        "id": "lVNyjt-Vl2gk",
        "outputId": "aa4b6356-d3ab-424e-c723-b7f9b78dea82"
      },
      "execution_count": null,
      "outputs": [
        {
          "output_type": "stream",
          "name": "stdout",
          "text": [
            "[1 2 3 4]\n",
            "<class 'numpy.ndarray'>\n",
            "1\n"
          ]
        }
      ]
    },
    {
      "cell_type": "code",
      "source": [
        "y = [1,2,3,4]\n",
        "print(y)        #[1, 2, 3, 4]\n",
        "print(type(y))  #<class 'list'>"
      ],
      "metadata": {
        "colab": {
          "base_uri": "https://localhost:8080/"
        },
        "id": "A0zU6lCTl8ew",
        "outputId": "d5744c56-237a-41cc-82c2-becddfa25042"
      },
      "execution_count": null,
      "outputs": [
        {
          "output_type": "stream",
          "name": "stdout",
          "text": [
            "[1, 2, 3, 4]\n",
            "<class 'list'>\n"
          ]
        }
      ]
    },
    {
      "cell_type": "code",
      "source": [
        "#User input array creating\n",
        "# range() function humesha (0 to n-1) chalta hai\n",
        "\n",
        "lists = []\n",
        "for i in range(1,5):\n",
        "  your_input = int(input(\"Enter the Number: \"))    #input() function always give string return type.\n",
        "  lists.append(your_input)\n",
        "print(np.array(lists))\n"
      ],
      "metadata": {
        "colab": {
          "base_uri": "https://localhost:8080/"
        },
        "id": "ZC1lKOFRt5k0",
        "outputId": "270f9a08-264e-4893-e58e-2fbde902b08a"
      },
      "execution_count": null,
      "outputs": [
        {
          "output_type": "stream",
          "name": "stdout",
          "text": [
            "Enter the Number: 1\n",
            "Enter the Number: 1\n",
            "Enter the Number: 1\n",
            "Enter the Number: 1\n",
            "[1 1 1 1]\n"
          ]
        }
      ]
    },
    {
      "cell_type": "markdown",
      "source": [
        "# **ndim  and  ndmin**\n",
        "\n",
        "---\n",
        "\n",
        "\n",
        "1.  ndim => used to identify the dimension of an array\n",
        "2.  ndmin => used to create n dimension of an array\n",
        "\n",
        "\n"
      ],
      "metadata": {
        "id": "9NVjaw-XyWS4"
      }
    },
    {
      "cell_type": "code",
      "source": [
        "x = np.array([1,2],ndmin = 10)\n",
        "# print(x.ndim)     10\n",
        "# print(x)      [[[[[[[[[[1 2]]]]]]]]]]\n"
      ],
      "metadata": {
        "colab": {
          "base_uri": "https://localhost:8080/"
        },
        "id": "IcWa2LXYyVYp",
        "outputId": "e1aed5a5-8a77-4e62-b823-878ba1bbb6aa"
      },
      "execution_count": null,
      "outputs": [
        {
          "output_type": "stream",
          "name": "stdout",
          "text": [
            "10\n"
          ]
        }
      ]
    },
    {
      "cell_type": "markdown",
      "source": [
        "# **arange([start,] stop[, step,][, dtype])**\n",
        "\n",
        "\n",
        "---\n",
        "\n",
        "\n",
        "\n",
        "1.   It start with 0.\n",
        "2.   Or khatam en number pahla hoga jaise ki (1,4) hain start 1 sa or end 3 pa hoga.\n",
        "3.  Ya array banana main kaam aata hai shortcut jaise bol sakta hai.\n",
        "\n",
        "\n",
        "\n",
        "\n"
      ],
      "metadata": {
        "id": "aeBR4FZJpVn9"
      }
    },
    {
      "cell_type": "code",
      "source": [
        "# numpy.arange method\n",
        "#Syntax :  arange([start,] stop[, step,][, dtype])\n",
        "\n",
        "print(\"A\", np.arange(4).reshape(2, 2), \"\\n\")  #A [[0 1]\n",
        "                                              #   [2 3]]\n",
        "print(\"A\", np.arange(4, 10), \"\\n\")  #A [4 5 6 7 8 9]\n",
        "print(\"A\", np.arange(4, 20, 3), \"\\n\") #A [ 4  7 10 13 16 19]"
      ],
      "metadata": {
        "colab": {
          "base_uri": "https://localhost:8080/"
        },
        "id": "ge6SCo7jolEo",
        "outputId": "45e14471-024f-45f8-eb5c-12a20a2fd408"
      },
      "execution_count": null,
      "outputs": [
        {
          "output_type": "stream",
          "name": "stdout",
          "text": [
            "A [[0 1]\n",
            " [2 3]] \n",
            "\n",
            "A [4 5 6 7 8 9] \n",
            "\n",
            "A [ 4  7 10 13 16 19] \n",
            "\n"
          ]
        }
      ]
    },
    {
      "cell_type": "markdown",
      "source": [
        "# **numpy.reshape(array, shape, order = 'C')**\n",
        "\n",
        "---\n",
        "\n",
        "Array which is reshaped without changing the data.\n"
      ],
      "metadata": {
        "id": "pbg4aFCXq0ts"
      }
    },
    {
      "cell_type": "code",
      "source": [
        "# numpy.reshape() method\n",
        "\n",
        "\n",
        "# array = geek.arrange(8)\n",
        "# The 'numpy' module has no attribute 'arrange'\n",
        "array1 = np.arange(8)\n",
        "print(\"Original array : \\n\", array1)\n",
        "\n",
        "# shape array with 2 rows and 4 columns\n",
        "array2 = np.arange(8).reshape(2, 4)\n",
        "print(\"\\narray reshaped with 2 rows and 4 columns : \\n\",\n",
        "      array2)\n",
        "\n",
        "# shape array with 4 rows and 2 columns\n",
        "array3 = np.arange(8).reshape(4, 2)\n",
        "print(\"\\narray reshaped with 4 rows and 2 columns : \\n\",\n",
        "      array3)\n",
        "\n",
        "# Constructs 3D array\n",
        "array4 = np.arange(8).reshape(2, 2, 2)\n",
        "print(\"\\nOriginal array reshaped to 3D : \\n\",\n",
        "      array4)"
      ],
      "metadata": {
        "colab": {
          "base_uri": "https://localhost:8080/"
        },
        "id": "S3OXG_OtpGJc",
        "outputId": "436e4c0e-506d-4ef8-a240-b1227b3319ff"
      },
      "execution_count": null,
      "outputs": [
        {
          "output_type": "stream",
          "name": "stdout",
          "text": [
            "Original array : \n",
            " [0 1 2 3 4 5 6 7]\n",
            "\n",
            "array reshaped with 2 rows and 4 columns : \n",
            " [[0 1 2 3]\n",
            " [4 5 6 7]]\n",
            "\n",
            "array reshaped with 4 rows and 2 columns : \n",
            " [[0 1]\n",
            " [2 3]\n",
            " [4 5]\n",
            " [6 7]]\n",
            "\n",
            "Original array reshaped to 3D : \n",
            " [[[0 1]\n",
            "  [2 3]]\n",
            "\n",
            " [[4 5]\n",
            "  [6 7]]]\n"
          ]
        }
      ]
    },
    {
      "cell_type": "code",
      "source": [
        "x = np.arange(10).reshape(2,5)\n",
        "print(x)"
      ],
      "metadata": {
        "colab": {
          "base_uri": "https://localhost:8080/"
        },
        "id": "pjESmc_Ysdox",
        "outputId": "83298c0b-bccf-41be-96d8-8f21411f2f88"
      },
      "execution_count": null,
      "outputs": [
        {
          "output_type": "stream",
          "name": "stdout",
          "text": [
            "[[0 1 2 3 4]\n",
            " [5 6 7 8 9]]\n"
          ]
        }
      ]
    },
    {
      "cell_type": "markdown",
      "source": [
        "# **Create NumPy array using NumPy functions**\n",
        "\n",
        "---\n",
        "\n"
      ],
      "metadata": {
        "id": "AezBWZCat4eD"
      }
    },
    {
      "cell_type": "code",
      "source": [
        "#Zeroes array\n",
        "\n",
        "x = np.zeros(5)\n",
        "print(x)\n",
        "y = np.zeros((2,3))\n",
        "print(y)\n",
        "z = np.zeros((2,3,4))\n",
        "print(z)"
      ],
      "metadata": {
        "id": "kUVTfhiRspDi",
        "colab": {
          "base_uri": "https://localhost:8080/"
        },
        "outputId": "fabcdaa3-346e-4cef-c97c-e2f349e2e216"
      },
      "execution_count": 8,
      "outputs": [
        {
          "output_type": "stream",
          "name": "stdout",
          "text": [
            "[0. 0. 0. 0. 0.]\n",
            "[[0. 0. 0.]\n",
            " [0. 0. 0.]]\n",
            "[[[0. 0. 0. 0.]\n",
            "  [0. 0. 0. 0.]\n",
            "  [0. 0. 0. 0.]]\n",
            "\n",
            " [[0. 0. 0. 0.]\n",
            "  [0. 0. 0. 0.]\n",
            "  [0. 0. 0. 0.]]]\n"
          ]
        }
      ]
    },
    {
      "cell_type": "code",
      "source": [
        "#Ones array\n",
        "\n",
        "x = np.ones(5)\n",
        "print(x , \"\\n\")\n",
        "y = np.ones((2,3))\n",
        "print(y, \"\\n\")\n",
        "z = np.ones((2,3,4))\n",
        "print(z, \"\\n\")"
      ],
      "metadata": {
        "colab": {
          "base_uri": "https://localhost:8080/"
        },
        "id": "beR7L4LIuu2f",
        "outputId": "b7545b69-188b-410b-8b12-f72ca172a3b9"
      },
      "execution_count": 6,
      "outputs": [
        {
          "output_type": "stream",
          "name": "stdout",
          "text": [
            "[1. 1. 1. 1. 1.] \n",
            "\n",
            "[[1. 1. 1.]\n",
            " [1. 1. 1.]] \n",
            "\n",
            "[[[1. 1. 1. 1.]\n",
            "  [1. 1. 1. 1.]\n",
            "  [1. 1. 1. 1.]]\n",
            "\n",
            " [[1. 1. 1. 1.]\n",
            "  [1. 1. 1. 1.]\n",
            "  [1. 1. 1. 1.]]] \n",
            "\n"
          ]
        }
      ]
    },
    {
      "cell_type": "code",
      "source": [
        "#Empty array\n",
        "x = np.empty(5)\n",
        "print(x)\n",
        "y = np.empty((2,3))\n",
        "print(y)\n",
        "z = np.empty((2,3,4))\n",
        "print(z)"
      ],
      "metadata": {
        "colab": {
          "base_uri": "https://localhost:8080/"
        },
        "id": "Q_gvYanwvQMP",
        "outputId": "793835ee-cba0-45c4-ea79-26fdfbe921a5"
      },
      "execution_count": 9,
      "outputs": [
        {
          "output_type": "stream",
          "name": "stdout",
          "text": [
            "[1. 1. 1. 1. 1.]\n",
            "[[1. 1. 1.]\n",
            " [1. 1. 1.]]\n",
            "[[[1. 1. 1. 1.]\n",
            "  [1. 1. 1. 1.]\n",
            "  [1. 1. 1. 1.]]\n",
            "\n",
            " [[1. 1. 1. 1.]\n",
            "  [1. 1. 1. 1.]\n",
            "  [1. 1. 1. 1.]]]\n"
          ]
        }
      ]
    },
    {
      "cell_type": "code",
      "source": [
        "#Range array\n",
        "\n",
        "x = np.arange(10)\n",
        "print(x)"
      ],
      "metadata": {
        "colab": {
          "base_uri": "https://localhost:8080/"
        },
        "id": "kkInLr9OwMTw",
        "outputId": "50e9a603-6082-4c81-cd8a-8961613b63e1"
      },
      "execution_count": 10,
      "outputs": [
        {
          "output_type": "stream",
          "name": "stdout",
          "text": [
            "[0 1 2 3 4 5 6 7 8 9]\n"
          ]
        }
      ]
    },
    {
      "cell_type": "code",
      "source": [
        "#Diagonal array\n",
        "\n",
        "x = np.eye(4)\n",
        "print(x)"
      ],
      "metadata": {
        "colab": {
          "base_uri": "https://localhost:8080/"
        },
        "id": "w3W1RTTBw4LU",
        "outputId": "92584a87-75c6-4dae-afd5-2f140c441d29"
      },
      "execution_count": 12,
      "outputs": [
        {
          "output_type": "stream",
          "name": "stdout",
          "text": [
            "[[1. 0. 0. 0.]\n",
            " [0. 1. 0. 0.]\n",
            " [0. 0. 1. 0.]\n",
            " [0. 0. 0. 1.]]\n"
          ]
        }
      ]
    },
    {
      "cell_type": "code",
      "source": [
        "#Linspace array\n",
        "\n",
        "x = np.linspace(0,10,num = 5)     #from 0 to 10 there will be 5 number only.\n",
        "print(x)"
      ],
      "metadata": {
        "colab": {
          "base_uri": "https://localhost:8080/"
        },
        "id": "LB9N4vq1xhtX",
        "outputId": "99b81ae9-0136-463d-9cba-7ec18995d6f2"
      },
      "execution_count": 14,
      "outputs": [
        {
          "output_type": "stream",
          "name": "stdout",
          "text": [
            "[ 0.   2.5  5.   7.5 10. ]\n"
          ]
        }
      ]
    },
    {
      "cell_type": "markdown",
      "source": [
        "# **Create NumPy array with Random Numbers**\n",
        "\n",
        "---\n",
        "\n"
      ],
      "metadata": {
        "id": "RPrgY6N4x6cN"
      }
    },
    {
      "cell_type": "code",
      "source": [
        "# rand() function\n",
        "\n",
        "x = np.random.rand(5)\n",
        "print(x)\n",
        "y = np.random.rand(2,2)\n",
        "print(y)\n",
        "z = np.random.rand(2,2,3)\n",
        "print(z)"
      ],
      "metadata": {
        "colab": {
          "base_uri": "https://localhost:8080/"
        },
        "id": "BcoqkgEIyAk8",
        "outputId": "f88b3fbe-cb04-46e6-aeb7-95ea64cb2534"
      },
      "execution_count": 19,
      "outputs": [
        {
          "output_type": "stream",
          "name": "stdout",
          "text": [
            "[0.9734106  0.71117346 0.65555032 0.43704595 0.68257709]\n",
            "[[0.98344775 0.72156807]\n",
            " [0.90286059 0.68535085]]\n",
            "[[[0.34368249 0.60872429 0.37490204]\n",
            "  [0.00808263 0.03496386 0.04149028]]\n",
            "\n",
            " [[0.89942911 0.78969862 0.94199502]\n",
            "  [0.97243409 0.18957561 0.26926637]]]\n"
          ]
        }
      ]
    },
    {
      "cell_type": "code",
      "source": [
        "# randn() function\n",
        "\n",
        "x = np.random.randn(5)\n",
        "print(x)\n",
        "y = np.random.randn(2,2)\n",
        "print(y)\n",
        "z = np.random.randn(2,2,3)\n",
        "print(z)"
      ],
      "metadata": {
        "colab": {
          "base_uri": "https://localhost:8080/"
        },
        "id": "-MQiw-Tzy2vy",
        "outputId": "7a426a1e-ab10-4c50-e101-80519798a803"
      },
      "execution_count": 20,
      "outputs": [
        {
          "output_type": "stream",
          "name": "stdout",
          "text": [
            "[-0.52685526  0.19956103  0.22567204 -0.76903015 -0.83317263]\n",
            "[[ 0.1646395   1.43055313]\n",
            " [ 0.31286383 -1.07723912]]\n",
            "[[[-0.55727134  0.38279162  0.69859494]\n",
            "  [-1.66172016 -1.6462394   0.41857671]]\n",
            "\n",
            " [[ 1.36449638  0.07571052  0.14994407]\n",
            "  [-0.37137442 -0.52025197  0.14119154]]]\n"
          ]
        }
      ]
    },
    {
      "cell_type": "code",
      "source": [
        "# ranf() function\n",
        "\n",
        "x = np.random.ranf(5)\n",
        "print(x)\n",
        "y = np.random.ranf((2,2))\n",
        "print(y)\n",
        "z = np.random.ranf((2,2,3))\n",
        "print(z)"
      ],
      "metadata": {
        "colab": {
          "base_uri": "https://localhost:8080/"
        },
        "id": "B6HxG0kVzK00",
        "outputId": "dcbf18d6-86ae-4775-9873-161c5f5ae5b3"
      },
      "execution_count": 24,
      "outputs": [
        {
          "output_type": "stream",
          "name": "stdout",
          "text": [
            "[0.49981146 0.14156416 0.28903716 0.12967046 0.59016481]\n",
            "[[0.54656459 0.28312672]\n",
            " [0.61789074 0.81633557]]\n",
            "[[[0.25632633 0.93875421 0.14867587]\n",
            "  [0.98120437 0.94675149 0.83636034]]\n",
            "\n",
            " [[0.44663113 0.62634859 0.29358448]\n",
            "  [0.11029195 0.03547342 0.18523401]]]\n"
          ]
        }
      ]
    },
    {
      "cell_type": "code",
      "source": [
        "# randint(min , max , total_value) function\n",
        "\n",
        "\n",
        "y = np.random.randint(10,20,5)\n",
        "print(y)\n"
      ],
      "metadata": {
        "colab": {
          "base_uri": "https://localhost:8080/"
        },
        "id": "P73YSppYzq2I",
        "outputId": "a49b5bd7-ae5c-4c2a-f4a1-0010161cf6d7"
      },
      "execution_count": 39,
      "outputs": [
        {
          "output_type": "stream",
          "name": "stdout",
          "text": [
            "[19 14 15 16 15]\n"
          ]
        }
      ]
    },
    {
      "cell_type": "markdown",
      "source": [
        "# **Data Type**\n",
        "\n",
        "---\n",
        "\n"
      ],
      "metadata": {
        "id": "FGJbLchJ2bue"
      }
    },
    {
      "cell_type": "code",
      "source": [
        "a = np.array([1,2,3])\n",
        "print(a.dtype)"
      ],
      "metadata": {
        "colab": {
          "base_uri": "https://localhost:8080/"
        },
        "id": "bJT4mji_2fPT",
        "outputId": "4267e7e7-6ad7-495e-a1c2-6af1cde47321"
      },
      "execution_count": 40,
      "outputs": [
        {
          "output_type": "stream",
          "name": "stdout",
          "text": [
            "int64\n"
          ]
        }
      ]
    },
    {
      "cell_type": "markdown",
      "source": [
        "# **Shape**\n",
        "\n",
        "Shape is used to find out the dimension of the array in row and column\n",
        "\n",
        "---\n",
        "\n",
        "\n"
      ],
      "metadata": {
        "id": "70p3phGN4Bkw"
      }
    },
    {
      "cell_type": "code",
      "source": [
        "a = np.array([[[1,2,3],[4,5,6]]])\n",
        "print(a.shape)"
      ],
      "metadata": {
        "colab": {
          "base_uri": "https://localhost:8080/"
        },
        "id": "S9AugaFe2kQ_",
        "outputId": "02f8113f-35c5-49b1-e9c2-73a13cdb75a4"
      },
      "execution_count": 43,
      "outputs": [
        {
          "output_type": "stream",
          "name": "stdout",
          "text": [
            "(1, 2, 3)\n"
          ]
        }
      ]
    },
    {
      "cell_type": "markdown",
      "source": [
        "# **Reshape**\n",
        "\n",
        "Reshape convert the array into n dimension *array*\n",
        "\n",
        "-1 is used to convert the array into one dimension array\n",
        "\n",
        "---\n",
        "\n"
      ],
      "metadata": {
        "id": "okdOQDIP5gWV"
      }
    },
    {
      "cell_type": "code",
      "source": [
        "a = np.array([1,2,3,4,5,6])\n",
        "print(a.reshape(-1))"
      ],
      "metadata": {
        "colab": {
          "base_uri": "https://localhost:8080/"
        },
        "id": "bwpQrEt45oL6",
        "outputId": "4f758d33-ff17-416f-cc79-676cdeb2257a"
      },
      "execution_count": 47,
      "outputs": [
        {
          "output_type": "stream",
          "name": "stdout",
          "text": [
            "[1 2 3 4 5 6]\n"
          ]
        }
      ]
    },
    {
      "cell_type": "markdown",
      "source": [
        "# **Arithmetic Operators**\n",
        "\n",
        "---\n",
        "\n"
      ],
      "metadata": {
        "id": "hN6UoPmK6zFe"
      }
    },
    {
      "cell_type": "code",
      "source": [
        "#ONE DIMENSION ARRAY\n",
        "\n",
        "a = np.array([1,2,3,4,5])\n",
        "print(a+3)\n",
        "print(a-3)\n",
        "print(a*3)\n",
        "print(a/3)\n",
        "print(a//3)\n",
        "print(a%3)\n"
      ],
      "metadata": {
        "colab": {
          "base_uri": "https://localhost:8080/"
        },
        "id": "sw6lJmbZ63zM",
        "outputId": "c3ad6d8a-ee2a-48aa-9101-5864d68cb388"
      },
      "execution_count": 51,
      "outputs": [
        {
          "output_type": "stream",
          "name": "stdout",
          "text": [
            "[4 5 6 7 8]\n",
            "[-2 -1  0  1  2]\n",
            "[ 3  6  9 12 15]\n",
            "[0.33333333 0.66666667 1.         1.33333333 1.66666667]\n",
            "[0 0 1 1 1]\n",
            "[1 2 0 1 2]\n"
          ]
        }
      ]
    },
    {
      "cell_type": "code",
      "source": [
        "a = np.array([1,2,3,4,5])\n",
        "b = np.array([6,7,8,9,10])\n",
        "print(a+b)\n",
        "print(a-b)\n",
        "print(a*b)\n",
        "print(a/b)\n",
        "print(a//b)\n",
        "print(a%b)\n",
        "print(a**b)"
      ],
      "metadata": {
        "colab": {
          "base_uri": "https://localhost:8080/"
        },
        "id": "nOuJf_9O7cgh",
        "outputId": "18a53d1d-ec27-44d9-9b8a-5c94038d6546"
      },
      "execution_count": 53,
      "outputs": [
        {
          "output_type": "stream",
          "name": "stdout",
          "text": [
            "[ 7  9 11 13 15]\n",
            "[-5 -5 -5 -5 -5]\n",
            "[ 6 14 24 36 50]\n",
            "[0.16666667 0.28571429 0.375      0.44444444 0.5       ]\n",
            "[0 0 0 0 0]\n",
            "[1 2 3 4 5]\n",
            "[      1     128    6561  262144 9765625]\n"
          ]
        }
      ]
    },
    {
      "cell_type": "code",
      "source": [
        "a = np.array([1,2,3,4,5])\n",
        "b = np.array([6,7,8,9,10])\n",
        "print(np.add(a,b))\n",
        "print(np.subtract(a,b))\n",
        "print(np.multiply(a,b))\n",
        "print(np.divide(a,b))\n",
        "print(np.mod(a,b))\n",
        "print(np.reciprocal(a))\n",
        "print(np.power(a,b))"
      ],
      "metadata": {
        "colab": {
          "base_uri": "https://localhost:8080/"
        },
        "id": "mkCm_MLY7wio",
        "outputId": "bcb1404e-c5ae-4398-ea61-7f28d1ce8a9b"
      },
      "execution_count": 56,
      "outputs": [
        {
          "output_type": "stream",
          "name": "stdout",
          "text": [
            "[ 7  9 11 13 15]\n",
            "[-5 -5 -5 -5 -5]\n",
            "[ 6 14 24 36 50]\n",
            "[0.16666667 0.28571429 0.375      0.44444444 0.5       ]\n",
            "[1 2 3 4 5]\n",
            "[1 0 0 0 0]\n",
            "[      1     128    6561  262144 9765625]\n"
          ]
        }
      ]
    },
    {
      "cell_type": "code",
      "source": [
        "# TWO DIMENSION ARRAY\n",
        "\n",
        "a = np.array([[1,2,3],[4,5,6]])\n",
        "b = np.array([[6,7,8],[9,10,11]])\n",
        "print(np.add(a,b))\n",
        "print(np.subtract(a,b))\n",
        "print(np.multiply(a,b))\n",
        "print(np.divide(a,b))\n",
        "print(np.mod(a,b))\n",
        "print(np.reciprocal(a))\n",
        "print(np.power(a,b))"
      ],
      "metadata": {
        "colab": {
          "base_uri": "https://localhost:8080/"
        },
        "id": "Dq_984x58F1o",
        "outputId": "878e25e3-0053-4552-9f04-61b4f4500079"
      },
      "execution_count": 57,
      "outputs": [
        {
          "output_type": "stream",
          "name": "stdout",
          "text": [
            "[[ 7  9 11]\n",
            " [13 15 17]]\n",
            "[[-5 -5 -5]\n",
            " [-5 -5 -5]]\n",
            "[[ 6 14 24]\n",
            " [36 50 66]]\n",
            "[[0.16666667 0.28571429 0.375     ]\n",
            " [0.44444444 0.5        0.54545455]]\n",
            "[[1 2 3]\n",
            " [4 5 6]]\n",
            "[[1 0 0]\n",
            " [0 0 0]]\n",
            "[[        1       128      6561]\n",
            " [   262144   9765625 362797056]]\n"
          ]
        }
      ]
    },
    {
      "cell_type": "markdown",
      "source": [
        "# **Arithmetic Functions**"
      ],
      "metadata": {
        "id": "7UzOGL1m9Wli"
      }
    },
    {
      "cell_type": "code",
      "source": [
        "a = np.array([1,2,3,4,5])\n",
        "print(np.min(a))\n",
        "print(np.max(a))\n",
        "print(np.argmin(a))\n",
        "print(np.argmax(a))\n",
        "print(np.sqrt(a))\n",
        "print(np.sin(a))\n",
        "print(np.cos(a))\n",
        "print(np.cumsum(a))\n"
      ],
      "metadata": {
        "colab": {
          "base_uri": "https://localhost:8080/"
        },
        "id": "fYB70z7G9aPs",
        "outputId": "d41caec5-056d-4a6f-9e06-cb44bcdef024"
      },
      "execution_count": 58,
      "outputs": [
        {
          "output_type": "stream",
          "name": "stdout",
          "text": [
            "1\n",
            "5\n",
            "0\n",
            "4\n",
            "[1.         1.41421356 1.73205081 2.         2.23606798]\n",
            "[ 0.84147098  0.90929743  0.14112001 -0.7568025  -0.95892427]\n",
            "[ 0.54030231 -0.41614684 -0.9899925  -0.65364362  0.28366219]\n",
            "[ 1  3  6 10 15]\n"
          ]
        }
      ]
    },
    {
      "cell_type": "code",
      "source": [
        "a = np.array([[1,2,3],[4,5,6]])\n",
        "b = np.array([[6,7,8],[9,10,11]])\n",
        "print(np.min(a,axis = 1))\n",
        "print(np.max(a,axis = 1))\n",
        "print(np.argmin(a,axis = 1))\n",
        "print(np.argmax(a,axis = 1))\n",
        "print(np.cumsum(a,axis =1))\n"
      ],
      "metadata": {
        "colab": {
          "base_uri": "https://localhost:8080/"
        },
        "id": "o7swhN04-mfa",
        "outputId": "454f4d69-b56d-487e-c2c0-015f577f0dfa"
      },
      "execution_count": 64,
      "outputs": [
        {
          "output_type": "stream",
          "name": "stdout",
          "text": [
            "[1 4]\n",
            "[3 6]\n",
            "[0 0]\n",
            "[2 2]\n",
            "[[ 1  3  6]\n",
            " [ 4  9 15]]\n"
          ]
        }
      ]
    },
    {
      "cell_type": "code",
      "source": [
        "#Shuffle\n",
        "a = np.array([1,2,3,4,5])\n",
        "np.random.shuffle(a)\n",
        "print(a)"
      ],
      "metadata": {
        "colab": {
          "base_uri": "https://localhost:8080/"
        },
        "id": "XzSpM7o5iUuk",
        "outputId": "a45419c7-eaec-4b79-cd77-5563d987f41f"
      },
      "execution_count": 6,
      "outputs": [
        {
          "output_type": "stream",
          "name": "stdout",
          "text": [
            "[5 1 3 4 2]\n"
          ]
        }
      ]
    },
    {
      "cell_type": "code",
      "source": [
        "#unique\n",
        "a = np.array([1,2,3,4,5,1,2,3,4,5])\n",
        "print(np.unique(a))"
      ],
      "metadata": {
        "colab": {
          "base_uri": "https://localhost:8080/"
        },
        "id": "k5aZylqFi6jK",
        "outputId": "a68475be-6151-4d6d-d2fd-7133de8f65ad"
      },
      "execution_count": 7,
      "outputs": [
        {
          "output_type": "stream",
          "name": "stdout",
          "text": [
            "[1 2 3 4 5]\n"
          ]
        }
      ]
    },
    {
      "cell_type": "code",
      "source": [
        "#to get the index and the count\n",
        "a = np.array([1,2,3,4,5,1,2,3,4,5,3,7])\n",
        "print(np.unique(a,return_index = True,return_counts=True))"
      ],
      "metadata": {
        "colab": {
          "base_uri": "https://localhost:8080/"
        },
        "id": "ycvchRbmjcZs",
        "outputId": "26652d88-c6de-4bca-8158-5f0cf929d465"
      },
      "execution_count": 9,
      "outputs": [
        {
          "output_type": "stream",
          "name": "stdout",
          "text": [
            "(array([1, 2, 3, 4, 5, 7]), array([ 0,  1,  2,  3,  4, 11]), array([2, 2, 3, 2, 2, 1]))\n"
          ]
        }
      ]
    },
    {
      "cell_type": "code",
      "source": [
        "#resize -> single to n dimension array\n",
        "\n",
        "a = np.array([1,2,3,4,5])\n",
        "print(np.resize(a,(2,3)))\n",
        "print()\n",
        "print(np.resize(a,(3,2,2)))"
      ],
      "metadata": {
        "colab": {
          "base_uri": "https://localhost:8080/"
        },
        "id": "ch2ZOGTDj2YL",
        "outputId": "05282e52-6f60-4071-ad7a-8f7ed1ac5d24"
      },
      "execution_count": 13,
      "outputs": [
        {
          "output_type": "stream",
          "name": "stdout",
          "text": [
            "[[1 2 3]\n",
            " [4 5 1]]\n",
            "\n",
            "[[[1 2]\n",
            "  [3 4]]\n",
            "\n",
            " [[5 1]\n",
            "  [2 3]]\n",
            "\n",
            " [[4 5]\n",
            "  [1 2]]]\n"
          ]
        }
      ]
    },
    {
      "cell_type": "code",
      "source": [
        "# flatten and ravel -> used to convert 2d aaray into 1d array\n",
        "a = np.array([[1,2,3],[4,5,6]])\n",
        "print(a.flatten(order=\"F\"))\n",
        "print()\n",
        "print(a.ravel(order=\"F\"))"
      ],
      "metadata": {
        "colab": {
          "base_uri": "https://localhost:8080/"
        },
        "id": "TxFh-uW0kz2_",
        "outputId": "d597088f-7ab3-476a-c49a-e8abaef9bd55"
      },
      "execution_count": 16,
      "outputs": [
        {
          "output_type": "stream",
          "name": "stdout",
          "text": [
            "[1 4 2 5 3 6]\n",
            "\n",
            "[1 4 2 5 3 6]\n"
          ]
        }
      ]
    },
    {
      "cell_type": "markdown",
      "source": [
        "# **Indexing in NumPy**"
      ],
      "metadata": {
        "id": "kvEcOk2uDaWu"
      }
    },
    {
      "cell_type": "code",
      "source": [
        "a = [1,2,3,4,5]\n",
        "print(a[3])"
      ],
      "metadata": {
        "colab": {
          "base_uri": "https://localhost:8080/"
        },
        "id": "-tRU5fALCbZD",
        "outputId": "f8a2c86c-29e2-430f-c7a8-a2849adf73c3"
      },
      "execution_count": 65,
      "outputs": [
        {
          "output_type": "stream",
          "name": "stdout",
          "text": [
            "4\n"
          ]
        }
      ]
    },
    {
      "cell_type": "code",
      "source": [
        "a = [[1,2,3],[4,5,6]]\n",
        "print(a[1][2])"
      ],
      "metadata": {
        "colab": {
          "base_uri": "https://localhost:8080/"
        },
        "id": "qfcoIoy6F4EP",
        "outputId": "03a6f84b-2afa-4984-939e-137f0ace3b24"
      },
      "execution_count": 66,
      "outputs": [
        {
          "output_type": "stream",
          "name": "stdout",
          "text": [
            "6\n"
          ]
        }
      ]
    },
    {
      "cell_type": "markdown",
      "source": [
        "# **Slicing in NumPy**"
      ],
      "metadata": {
        "id": "PjFcsOoiF9pM"
      }
    },
    {
      "cell_type": "code",
      "source": [
        "a = np.array([1,2,3,4,5])\n",
        "print(\"to end\", a[2:])\n",
        "print(\"from start\", a[:4])\n",
        "print(\"to middle\", a[1:3])\n"
      ],
      "metadata": {
        "colab": {
          "base_uri": "https://localhost:8080/"
        },
        "id": "ZVAjfVc-GCJz",
        "outputId": "87f4f174-9b81-4713-b930-62453547c606"
      },
      "execution_count": 73,
      "outputs": [
        {
          "output_type": "stream",
          "name": "stdout",
          "text": [
            "to end [3 4 5]\n",
            "from start [1 2 3 4]\n",
            "to middle [2 3]\n"
          ]
        }
      ]
    },
    {
      "cell_type": "code",
      "source": [
        "a = np.array([[1,2,3],[4,5,6]])\n",
        "print(a[0,1:])"
      ],
      "metadata": {
        "colab": {
          "base_uri": "https://localhost:8080/"
        },
        "id": "ZdLsuAtvGmuL",
        "outputId": "fd66dcc1-c69a-4e13-929c-057143b646e7"
      },
      "execution_count": 74,
      "outputs": [
        {
          "output_type": "stream",
          "name": "stdout",
          "text": [
            "[2 3]\n"
          ]
        }
      ]
    },
    {
      "cell_type": "markdown",
      "source": [
        "# **Iterating in NumPy**"
      ],
      "metadata": {
        "id": "JmDoGtYdIQ6n"
      }
    },
    {
      "cell_type": "code",
      "source": [
        "a = np.array([1,2,3,4,5])\n",
        "for i in a:\n",
        "  print(i)"
      ],
      "metadata": {
        "colab": {
          "base_uri": "https://localhost:8080/"
        },
        "id": "FjaoMDrEIUfv",
        "outputId": "ce929bd7-52e0-4568-9715-7b0c4959cf69"
      },
      "execution_count": 75,
      "outputs": [
        {
          "output_type": "stream",
          "name": "stdout",
          "text": [
            "1\n",
            "2\n",
            "3\n",
            "4\n",
            "5\n"
          ]
        }
      ]
    },
    {
      "cell_type": "code",
      "source": [
        "a = np.array([[1,2,3,4,5],[5,6,7,8,9]])\n",
        "for i in a:\n",
        "  # print(i)\n",
        "  for j in i:\n",
        "    print(j)\n",
        "print(a)"
      ],
      "metadata": {
        "colab": {
          "base_uri": "https://localhost:8080/"
        },
        "id": "0r-yrCaAIa4a",
        "outputId": "ab715eca-4d62-4681-d0c9-01ceb66dbd97"
      },
      "execution_count": 84,
      "outputs": [
        {
          "output_type": "stream",
          "name": "stdout",
          "text": [
            "1\n",
            "2\n",
            "3\n",
            "4\n",
            "5\n",
            "5\n",
            "6\n",
            "7\n",
            "8\n",
            "9\n",
            "[[1 2 3 4 5]\n",
            " [5 6 7 8 9]]\n"
          ]
        }
      ]
    },
    {
      "cell_type": "code",
      "source": [
        "a = [[[1,2,3,4],[5,6,7,8],[9,10,11,12]]]\n",
        "for i in a:\n",
        "  for j in i:\n",
        "    for k in j:\n",
        "      print(k)"
      ],
      "metadata": {
        "colab": {
          "base_uri": "https://localhost:8080/"
        },
        "id": "YMiPfDSsJY-r",
        "outputId": "e9b4cf48-4d95-4627-d8e3-8ea50d5c72bf"
      },
      "execution_count": 85,
      "outputs": [
        {
          "output_type": "stream",
          "name": "stdout",
          "text": [
            "1\n",
            "2\n",
            "3\n",
            "4\n",
            "5\n",
            "6\n",
            "7\n",
            "8\n",
            "9\n",
            "10\n",
            "11\n",
            "12\n"
          ]
        }
      ]
    },
    {
      "cell_type": "code",
      "source": [
        "#nditer()\n",
        "a = [[[1,2,3,4],[5,6,7,8],[9,10,11,12]]]\n",
        "for i in np.nditer(a):\n",
        "  print(i)"
      ],
      "metadata": {
        "colab": {
          "base_uri": "https://localhost:8080/"
        },
        "id": "ctG1FzShJyrw",
        "outputId": "93e27697-7384-485c-9aaf-65de4be39179"
      },
      "execution_count": 86,
      "outputs": [
        {
          "output_type": "stream",
          "name": "stdout",
          "text": [
            "1\n",
            "2\n",
            "3\n",
            "4\n",
            "5\n",
            "6\n",
            "7\n",
            "8\n",
            "9\n",
            "10\n",
            "11\n",
            "12\n"
          ]
        }
      ]
    },
    {
      "cell_type": "code",
      "source": [
        "#ndenumerate()\n",
        "a = np.array([[1,2,3,4,5],[5,6,7,8,9]])\n",
        "for i,j in np.ndenumerate(a):\n",
        "  print(i,j)\n"
      ],
      "metadata": {
        "colab": {
          "base_uri": "https://localhost:8080/"
        },
        "id": "HEMV2BaeLLMi",
        "outputId": "f385e438-a746-4dad-aca2-56c0ec1f9948"
      },
      "execution_count": 87,
      "outputs": [
        {
          "output_type": "stream",
          "name": "stdout",
          "text": [
            "(0, 0) 1\n",
            "(0, 1) 2\n",
            "(0, 2) 3\n",
            "(0, 3) 4\n",
            "(0, 4) 5\n",
            "(1, 0) 5\n",
            "(1, 1) 6\n",
            "(1, 2) 7\n",
            "(1, 3) 8\n",
            "(1, 4) 9\n"
          ]
        }
      ]
    },
    {
      "cell_type": "markdown",
      "source": [
        "# **JOIN Array**"
      ],
      "metadata": {
        "id": "An03rtkOW93P"
      }
    },
    {
      "cell_type": "code",
      "source": [
        "#concatenate()\n",
        "a = np.array([1,2,3,4])\n",
        "b = np.array([5,6,7,8])\n",
        "print(np.concatenate((a,b)))"
      ],
      "metadata": {
        "colab": {
          "base_uri": "https://localhost:8080/"
        },
        "id": "fkyOwq7_XshW",
        "outputId": "833d57d2-e3a7-4882-a58e-fdadb7bbd968"
      },
      "execution_count": 88,
      "outputs": [
        {
          "output_type": "stream",
          "name": "stdout",
          "text": [
            "[1 2 3 4 5 6 7 8]\n"
          ]
        }
      ]
    },
    {
      "cell_type": "code",
      "source": [
        "a = np.array([[1,2],[3,4]])\n",
        "b = np.array([[5,6],[7,8]])\n",
        "print(np.concatenate((a,b),axis = 0))\n",
        "print()\n",
        "print(np.concatenate((a,b),axis = 1))"
      ],
      "metadata": {
        "colab": {
          "base_uri": "https://localhost:8080/"
        },
        "id": "z4DbDLokYMBi",
        "outputId": "abf768b9-0f65-4608-ed10-2bb4c458cf75"
      },
      "execution_count": 96,
      "outputs": [
        {
          "output_type": "stream",
          "name": "stdout",
          "text": [
            "[[1 2]\n",
            " [3 4]\n",
            " [5 6]\n",
            " [7 8]]\n",
            "\n",
            "[[1 2 5 6]\n",
            " [3 4 7 8]]\n"
          ]
        }
      ]
    },
    {
      "cell_type": "code",
      "source": [
        "#stack()\n",
        "# hstack() -> horizontak\n",
        "# vstack() -> vertical\n",
        "# dstack() ->height\n",
        "#  if we use abobe function than axis is not required.\n",
        "a = np.array([1,2,3,4])\n",
        "b = np.array([5,6,7,8])\n",
        "print(np.stack((a,b)))  #axis = 0\n",
        "print()\n",
        "print(np.stack((a,b),axis = 1))"
      ],
      "metadata": {
        "colab": {
          "base_uri": "https://localhost:8080/"
        },
        "id": "aeyh7U-uZHhJ",
        "outputId": "c8d70cd7-e784-480e-8d36-17433bf91652"
      },
      "execution_count": 100,
      "outputs": [
        {
          "output_type": "stream",
          "name": "stdout",
          "text": [
            "[[1 2 3 4]\n",
            " [5 6 7 8]]\n",
            "\n",
            "[[1 5]\n",
            " [2 6]\n",
            " [3 7]\n",
            " [4 8]]\n"
          ]
        }
      ]
    },
    {
      "cell_type": "markdown",
      "source": [
        "# **SPLIT Array**"
      ],
      "metadata": {
        "id": "qbEuJB-4aOMJ"
      }
    },
    {
      "cell_type": "code",
      "source": [
        "a = np.array([1,2,3,4,5,6,7,8,9])\n",
        "print(np.array_split(a,3))\n",
        "print()\n",
        "print(np.array_split(a,4))"
      ],
      "metadata": {
        "colab": {
          "base_uri": "https://localhost:8080/"
        },
        "id": "u0YJ0AlCaS59",
        "outputId": "4a0fbef8-efb6-4450-c42d-e7a7d363e13c"
      },
      "execution_count": 102,
      "outputs": [
        {
          "output_type": "stream",
          "name": "stdout",
          "text": [
            "[array([1, 2, 3]), array([4, 5, 6]), array([7, 8, 9])]\n",
            "\n",
            "[array([1, 2, 3]), array([4, 5]), array([6, 7]), array([8, 9])]\n"
          ]
        }
      ]
    },
    {
      "cell_type": "code",
      "source": [
        "a = np.array([[1,2],[3,4],[5,6],[7,8],[9,10],[11,12]])\n",
        "print(np.array_split(a,3))\n",
        "print()\n",
        "print(np.array_split(a,4))"
      ],
      "metadata": {
        "colab": {
          "base_uri": "https://localhost:8080/"
        },
        "id": "3zzeYB6ra_ju",
        "outputId": "d51e99b2-e7ff-45cd-c56f-0f5096c2c92d"
      },
      "execution_count": 104,
      "outputs": [
        {
          "output_type": "stream",
          "name": "stdout",
          "text": [
            "[array([[1, 2],\n",
            "       [3, 4]]), array([[5, 6],\n",
            "       [7, 8]]), array([[ 9, 10],\n",
            "       [11, 12]])]\n",
            "\n",
            "[array([[1, 2],\n",
            "       [3, 4]]), array([[5, 6],\n",
            "       [7, 8]]), array([[ 9, 10]]), array([[11, 12]])]\n"
          ]
        }
      ]
    },
    {
      "cell_type": "markdown",
      "source": [
        "# **Search**"
      ],
      "metadata": {
        "id": "41cwvABobxrp"
      }
    },
    {
      "cell_type": "code",
      "source": [
        "a = np.array([1,2,3,4,5,6,7,4,9])\n",
        "print(np.where(a == 4))"
      ],
      "metadata": {
        "colab": {
          "base_uri": "https://localhost:8080/"
        },
        "id": "B4JMS1_Zb0AO",
        "outputId": "66e32b63-f3ad-4402-9a36-ce25c069bc77"
      },
      "execution_count": 107,
      "outputs": [
        {
          "output_type": "stream",
          "name": "stdout",
          "text": [
            "(array([3, 7]),)\n"
          ]
        }
      ]
    },
    {
      "cell_type": "code",
      "source": [
        "a = np.array([1,2,3,4,5,6,7,4,9])\n",
        "print(np.where(a > 4))"
      ],
      "metadata": {
        "colab": {
          "base_uri": "https://localhost:8080/"
        },
        "id": "y3PNOK--cPqe",
        "outputId": "6c5b27cb-08db-486d-e768-ba94e1f2a559"
      },
      "execution_count": 108,
      "outputs": [
        {
          "output_type": "stream",
          "name": "stdout",
          "text": [
            "(array([4, 5, 6, 8]),)\n"
          ]
        }
      ]
    },
    {
      "cell_type": "markdown",
      "source": [
        "# **Search Sorted**\n",
        "\n",
        "In this the array is shorted and it tells where the specific value should be inserted.\n",
        "\n",
        "OR\n",
        "\n",
        "The NumPy searchsorted() function can be used to find the index value where the new elements should be inserted in the sorted array, and the order of an array be preserved.\n",
        "\n",
        "---\n",
        "\n"
      ],
      "metadata": {
        "id": "LEQAmnSddD2L"
      }
    },
    {
      "cell_type": "code",
      "source": [
        "a = [1,2,3,4,6,7,8,9,10,11,13,14,15,16]\n",
        "print(np.searchsorted(a,5,side = 'right'))\n",
        "print()\n",
        "print(np.searchsorted(a,5,side = 'left'))"
      ],
      "metadata": {
        "colab": {
          "base_uri": "https://localhost:8080/"
        },
        "id": "GmL4hEN1c4Fh",
        "outputId": "eb468bf5-99c7-4dee-a02e-fb2c2a644232"
      },
      "execution_count": 117,
      "outputs": [
        {
          "output_type": "stream",
          "name": "stdout",
          "text": [
            "4\n",
            "\n",
            "4\n"
          ]
        }
      ]
    },
    {
      "cell_type": "code",
      "source": [
        "a = [1,2,3,4,6,7,8,9,10,11,13,14,15,16]\n",
        "print(np.searchsorted(a,[5,12],side = 'right'))\n",
        "print()\n",
        "print(np.searchsorted(a,[5,12],side = 'left'))"
      ],
      "metadata": {
        "colab": {
          "base_uri": "https://localhost:8080/"
        },
        "id": "oHFlFd7GesLv",
        "outputId": "4a136be1-befb-4297-9739-aff9c001ff48"
      },
      "execution_count": 119,
      "outputs": [
        {
          "output_type": "stream",
          "name": "stdout",
          "text": [
            "[ 4 10]\n",
            "\n",
            "[ 4 10]\n"
          ]
        }
      ]
    },
    {
      "cell_type": "markdown",
      "source": [
        "# **SORT ARRAY**\n",
        "\n",
        "putting elements in an ordered sequence\n",
        "\n",
        "---\n",
        "\n"
      ],
      "metadata": {
        "id": "QUupEltbfDkC"
      }
    },
    {
      "cell_type": "code",
      "source": [
        "a = np.array([1,38,58,45,93,83,25,10,28,93])\n",
        "print(np.sort(a))"
      ],
      "metadata": {
        "colab": {
          "base_uri": "https://localhost:8080/"
        },
        "id": "QQXF81NYfMCu",
        "outputId": "c6f91c5c-a79c-488c-80b5-c76766ca7b88"
      },
      "execution_count": 120,
      "outputs": [
        {
          "output_type": "stream",
          "name": "stdout",
          "text": [
            "[ 1 10 25 28 38 45 58 83 93 93]\n"
          ]
        }
      ]
    },
    {
      "cell_type": "markdown",
      "source": [
        "# **FILTER Array**\n",
        "\n",
        "Getting some elements out of existing elements array and creating  a new  array out of them.\n",
        "\n",
        "---\n",
        "\n"
      ],
      "metadata": {
        "id": "eA-ZK6pPfu0m"
      }
    },
    {
      "cell_type": "code",
      "source": [
        "a = np.array([1,2,3,4,5,6,7,8,9])\n",
        "f = [True,False,True,False,True,False,True,False,True]\n",
        "print(a[f])"
      ],
      "metadata": {
        "colab": {
          "base_uri": "https://localhost:8080/"
        },
        "id": "FYMWg4dsfyAJ",
        "outputId": "d68d2263-13a0-4bc4-fa9c-d8f4bc230246"
      },
      "execution_count": 122,
      "outputs": [
        {
          "output_type": "stream",
          "name": "stdout",
          "text": [
            "[1 3 5 7 9]\n"
          ]
        }
      ]
    },
    {
      "cell_type": "markdown",
      "source": [
        "# **NumPy Array Functions(Insert and Delete Functions)**\n",
        "\n"
      ],
      "metadata": {
        "id": "wPYZ6dsjq2Cr"
      }
    },
    {
      "cell_type": "code",
      "source": [
        "#INSERT\n",
        "\n",
        "a = np.array([1,2,3,4,5])\n",
        "# print(np.insert(a,3,100))      #(array_name, index , value)\n",
        "print(np.insert(a,(2,4),100))   #it never accepts the float value\n",
        "print(np.append(a,6.5))\n"
      ],
      "metadata": {
        "colab": {
          "base_uri": "https://localhost:8080/"
        },
        "id": "ZuzMjpwdrBat",
        "outputId": "abb518d2-25b7-4694-d860-2583bb614220"
      },
      "execution_count": 23,
      "outputs": [
        {
          "output_type": "stream",
          "name": "stdout",
          "text": [
            "[  1   2 100   3   4 100   5]\n",
            "[1.  2.  3.  4.  5.  6.5]\n"
          ]
        }
      ]
    },
    {
      "cell_type": "code",
      "source": [
        "#DELETE\n",
        "\n",
        "a = np.array([1,2,3,4,5])\n",
        "print(np.delete(a,3))"
      ],
      "metadata": {
        "colab": {
          "base_uri": "https://localhost:8080/"
        },
        "id": "YAHDGkrSt8Aa",
        "outputId": "625633e9-76d5-402f-c11f-ed3b2449d1db"
      },
      "execution_count": 24,
      "outputs": [
        {
          "output_type": "stream",
          "name": "stdout",
          "text": [
            "[1 2 3 5]\n"
          ]
        }
      ]
    },
    {
      "cell_type": "markdown",
      "source": [
        "# **Matrix in NumPy Array**\n",
        "\n",
        "1.In addition operator there is no difference between array and matrix.\n",
        "\n",
        "2.In substraction operator there is no difference between array and matrix.\n",
        "\n",
        "3.But in multiply operator both are difference."
      ],
      "metadata": {
        "id": "yOQZzZL8uR-6"
      }
    },
    {
      "cell_type": "code",
      "source": [
        "a = np.matrix([[1,2,3],[4,5,6]])\n",
        "print(a)"
      ],
      "metadata": {
        "colab": {
          "base_uri": "https://localhost:8080/"
        },
        "id": "sE_yQzJNuVhN",
        "outputId": "a5481ae6-97a2-4137-9753-bd75ed65fbee"
      },
      "execution_count": 25,
      "outputs": [
        {
          "output_type": "stream",
          "name": "stdout",
          "text": [
            "[[1 2 3]\n",
            " [4 5 6]]\n"
          ]
        }
      ]
    },
    {
      "cell_type": "code",
      "source": [
        "a = np.matrix([[1,2,3],[4,5,6]])\n",
        "b = np.matrix([[7,8,9],[10,11,12]])\n",
        "print(a+b)\n",
        "print()\n",
        "print(a-b)\n",
        "print()\n",
        "# print(a*b)      error is showing (shapes (2,3) and (2,3) not aligned: 3 (dim 1) != 2 (dim 0))\n"
      ],
      "metadata": {
        "colab": {
          "base_uri": "https://localhost:8080/"
        },
        "id": "Z4_LJct5vJyp",
        "outputId": "08a9fc1e-2b9c-41fc-f428-420fe3127605"
      },
      "execution_count": 27,
      "outputs": [
        {
          "output_type": "stream",
          "name": "stdout",
          "text": [
            "[[ 8 10 12]\n",
            " [14 16 18]]\n",
            "\n",
            "[[-6 -6 -6]\n",
            " [-6 -6 -6]]\n",
            "\n"
          ]
        }
      ]
    },
    {
      "cell_type": "code",
      "source": [
        "#Matrix multiplication is also known as Dot multiplication.\n",
        "# Two ways to perform multiplication.\n",
        "# 1. a*b\n",
        "# 2. a.dot(b)\n",
        "# 3. It follows the broadcast rule\n",
        "\n",
        "a = np.matrix([[1,2,3],[4,5,6]])   #2*3\n",
        "b = np.matrix([[7,8],[9,10],[11,12]])   #3*2\n",
        "print(a*b)\n",
        "print()\n",
        "print(a.dot(b))\n"
      ],
      "metadata": {
        "colab": {
          "base_uri": "https://localhost:8080/"
        },
        "id": "QjwtoxauvZLZ",
        "outputId": "e15f4dd4-b739-45e6-9910-609813b3253c"
      },
      "execution_count": 28,
      "outputs": [
        {
          "output_type": "stream",
          "name": "stdout",
          "text": [
            "[[ 58  64]\n",
            " [139 154]]\n",
            "\n",
            "[[ 58  64]\n",
            " [139 154]]\n"
          ]
        }
      ]
    },
    {
      "cell_type": "markdown",
      "source": [
        "# **Matrix Function**"
      ],
      "metadata": {
        "id": "_nrLM6Cgw3kd"
      }
    },
    {
      "cell_type": "code",
      "source": [
        "#Transpose\n",
        "\n",
        "a = np.matrix([[1,2,3],[4,5,6]])\n",
        "print(a.T)\n",
        "print()\n",
        "print(np.transpose(a))"
      ],
      "metadata": {
        "colab": {
          "base_uri": "https://localhost:8080/"
        },
        "id": "S8A6lYKRw7Bv",
        "outputId": "29b85115-a3e4-443e-9d89-59747c4b3d0d"
      },
      "execution_count": 30,
      "outputs": [
        {
          "output_type": "stream",
          "name": "stdout",
          "text": [
            "[[1 4]\n",
            " [2 5]\n",
            " [3 6]]\n",
            "\n",
            "[[1 4]\n",
            " [2 5]\n",
            " [3 6]]\n"
          ]
        }
      ]
    },
    {
      "cell_type": "code",
      "source": [
        "#Swapaxes\n",
        "\n",
        "a = np.matrix([[1,2,3],[4,5,6]])\n",
        "print(a.swapaxes(0 ,1))\n",
        "print()\n",
        "print(np.swapaxes(a,0,1))"
      ],
      "metadata": {
        "colab": {
          "base_uri": "https://localhost:8080/"
        },
        "id": "qrgowE9jxiPr",
        "outputId": "8876da2b-c432-4f7f-d5f2-fe324d463d23"
      },
      "execution_count": 32,
      "outputs": [
        {
          "output_type": "stream",
          "name": "stdout",
          "text": [
            "[[1 4]\n",
            " [2 5]\n",
            " [3 6]]\n",
            "\n",
            "[[1 4]\n",
            " [2 5]\n",
            " [3 6]]\n"
          ]
        }
      ]
    },
    {
      "cell_type": "code",
      "source": [
        "#Inverse\n",
        "\n",
        "a = np.matrix([[1,2],[3,4]])\n",
        "print(np.linalg.inv(a))"
      ],
      "metadata": {
        "colab": {
          "base_uri": "https://localhost:8080/"
        },
        "id": "Dw_rR8srx3yd",
        "outputId": "3a55c4df-de5f-4167-a2db-18722d9de273"
      },
      "execution_count": 33,
      "outputs": [
        {
          "output_type": "stream",
          "name": "stdout",
          "text": [
            "[[-2.   1. ]\n",
            " [ 1.5 -0.5]]\n"
          ]
        }
      ]
    },
    {
      "cell_type": "code",
      "source": [
        "#Power\n",
        "# power = 0 => Identity Matrix\n",
        "# power > 0 => Multiplication\n",
        "# power < 0 => inverse * power\n",
        "\n",
        "a = np.matrix([[1,2],[3,4]])\n",
        "print(np.linalg.matrix_power(a,2))     #(array, power)\n",
        "print()\n",
        "print(np.linalg.matrix_power(a,0))\n",
        "print()\n",
        "print(np.linalg.matrix_power(a,-2))"
      ],
      "metadata": {
        "colab": {
          "base_uri": "https://localhost:8080/"
        },
        "id": "Qwt05466yNuD",
        "outputId": "6d850dab-1520-4d4b-db44-68445c7ee3fa"
      },
      "execution_count": 35,
      "outputs": [
        {
          "output_type": "stream",
          "name": "stdout",
          "text": [
            "[[ 7 10]\n",
            " [15 22]]\n",
            "\n",
            "[[1 0]\n",
            " [0 1]]\n",
            "\n",
            "[[ 5.5  -2.5 ]\n",
            " [-3.75  1.75]]\n"
          ]
        }
      ]
    },
    {
      "cell_type": "code",
      "source": [
        "#Determinant\n",
        "\n",
        "a = np.matrix([[1,2,4],[3,4,2],[1,5,3]])\n",
        "print(np.linalg.det(a))"
      ],
      "metadata": {
        "colab": {
          "base_uri": "https://localhost:8080/"
        },
        "id": "T7go_HuH0Lo8",
        "outputId": "522934be-b944-4f18-cc80-a7aa4d7147b5"
      },
      "execution_count": 39,
      "outputs": [
        {
          "output_type": "stream",
          "name": "stdout",
          "text": [
            "32.000000000000014\n"
          ]
        }
      ]
    }
  ]
}